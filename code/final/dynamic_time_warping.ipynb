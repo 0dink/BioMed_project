{
 "cells": [
  {
   "cell_type": "code",
   "execution_count": 6,
   "metadata": {},
   "outputs": [],
   "source": [
    "import os\n",
    "import librosa\n",
    "import numpy as np\n",
    "import matplotlib.pyplot as plt\n",
    "\n",
    "from fastdtw import fastdtw\n",
    "from scipy.spatial.distance import euclidean"
   ]
  },
  {
   "cell_type": "code",
   "execution_count": 7,
   "metadata": {},
   "outputs": [],
   "source": [
    "def get_file_paths_by_subfolder(root):\n",
    "    file_dict = {}\n",
    "    \n",
    "    # Walk through the root directory\n",
    "    for subdir, _, files in os.walk(root):\n",
    "        # Get the subfolder name (last part of the path)\n",
    "        subfolder_name = os.path.basename(subdir)\n",
    "        file_pairs = [(os.path.join(subdir, file), os.path.splitext(file)[0]) for file in files]\n",
    "        \n",
    "        # Only add the subfolder if it has files\n",
    "        if file_pairs:\n",
    "            file_dict[subfolder_name] = file_pairs\n",
    "    \n",
    "    return file_dict"
   ]
  },
  {
   "cell_type": "code",
   "execution_count": 12,
   "metadata": {},
   "outputs": [],
   "source": [
    "def calculate_avg_dtw_distance(audio_files):\n",
    "    # Load the audio files and compute their MFCCs\n",
    "    mfccs = []\n",
    "    for file, _ in audio_files:\n",
    "        y, sr = librosa.load(file, sr=None)  # Load audio file at its original sample rate\n",
    "        mfcc = librosa.feature.mfcc(y=y, sr=sr, n_mfcc=13, n_fft=1024)  # Extract MFCCs\n",
    "        mfccs.append(mfcc.T)  # Transpose to make time steps as rows\n",
    "\n",
    "    # Calculate DTW distance between each pair of audio files\n",
    "    distances = []\n",
    "    n = len(mfccs)\n",
    "    for i in range(n):\n",
    "        for j in range(i+1, n):\n",
    "            # Compute DTW between mfccs[i] and mfccs[j]\n",
    "            distance, _ = fastdtw(mfccs[i], mfccs[j], dist=euclidean)\n",
    "            distances.append(distance)\n",
    "    \n",
    "    # Average the distances\n",
    "    avg_distance = np.mean(distances)\n",
    "    return avg_distance"
   ]
  },
  {
   "cell_type": "code",
   "execution_count": 9,
   "metadata": {},
   "outputs": [
    {
     "name": "stdout",
     "output_type": "stream",
     "text": [
      "dict_keys(['201', '311', '87'])\n",
      "61\n",
      "79\n",
      "72\n"
     ]
    }
   ],
   "source": [
    "file_dictionary = get_file_paths_by_subfolder(r\"C:\\Computer Science Programs\\Fall_2024\\EE502_BioMed\\project\\data\\extracted_words\\that_before_after\")\n",
    "\n",
    "print(file_dictionary.keys())\n",
    "\n",
    "print(len(file_dictionary['201']))\n",
    "print(len(file_dictionary['311']))\n",
    "print(len(file_dictionary['87']))"
   ]
  },
  {
   "cell_type": "code",
   "execution_count": null,
   "metadata": {},
   "outputs": [
    {
     "name": "stdout",
     "output_type": "stream",
     "text": [
      "1133.0583398227845\n",
      "1246.7554320268562\n",
      "966.3404960651809\n"
     ]
    }
   ],
   "source": [
    "print(calculate_avg_dtw_distance(file_dictionary['201']))\n",
    "print(calculate_avg_dtw_distance(file_dictionary['311']))\n",
    "print(calculate_avg_dtw_distance(file_dictionary['87']))"
   ]
  },
  {
   "cell_type": "code",
   "execution_count": 19,
   "metadata": {},
   "outputs": [
    {
     "name": "stdout",
     "output_type": "stream",
     "text": [
      "16000\n",
      "16000\n",
      "DTW distance: 1001.8369781314818\n"
     ]
    }
   ],
   "source": [
    "# Load audio files and extract MFCC features\n",
    "y1, sr1 = librosa.load(r'C:\\Computer Science Programs\\Fall_2024\\EE502_BioMed\\project\\data\\extracted_words\\that_before_after\\87\\87-121553-0001_1.wav', sr=None)\n",
    "y2, sr2 = librosa.load(r'C:\\Computer Science Programs\\Fall_2024\\EE502_BioMed\\project\\data\\extracted_words\\that_before_after\\201\\201-122255-0006_1.wav',sr=None)\n",
    "\n",
    "print(sr1)\n",
    "print(sr2)\n",
    "\n",
    "# Extract MFCCs (you can also use other features like chroma or spectrogram)\n",
    "mfcc1 = librosa.feature.mfcc(y=y1, sr=sr1, n_mfcc=13, n_fft=1024)\n",
    "mfcc2 = librosa.feature.mfcc(y=y2, sr=sr2, n_mfcc=13, n_fft=1024)\n",
    "\n",
    "# Transpose MFCCs to get a (time, features) shape, which is necessary for DTW\n",
    "mfcc1 = mfcc1.T\n",
    "mfcc2 = mfcc2.T\n",
    "\n",
    "distance, path = fastdtw(mfcc1, mfcc2, dist=euclidean)\n",
    "\n",
    "print(f\"DTW distance: {distance}\")"
   ]
  }
 ],
 "metadata": {
  "kernelspec": {
   "display_name": "BioMed_Project",
   "language": "python",
   "name": "python3"
  },
  "language_info": {
   "codemirror_mode": {
    "name": "ipython",
    "version": 3
   },
   "file_extension": ".py",
   "mimetype": "text/x-python",
   "name": "python",
   "nbconvert_exporter": "python",
   "pygments_lexer": "ipython3",
   "version": "3.10.14"
  }
 },
 "nbformat": 4,
 "nbformat_minor": 2
}
