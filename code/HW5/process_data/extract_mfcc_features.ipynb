{
 "cells": [
  {
   "cell_type": "code",
   "execution_count": 1,
   "metadata": {},
   "outputs": [],
   "source": [
    "import librosa\n",
    "import os\n",
    "import pickle\n",
    "import numpy as np\n",
    "from scipy.stats import kurtosis,skew,mode"
   ]
  },
  {
   "cell_type": "code",
   "execution_count": 2,
   "metadata": {},
   "outputs": [],
   "source": [
    "def get_file_paths_by_subfolder(root):\n",
    "    file_dict = {}\n",
    "    \n",
    "    # Walk through the root directory\n",
    "    for subdir, _, files in os.walk(root):\n",
    "        # Get the subfolder name (last part of the path)\n",
    "        subfolder_name = os.path.basename(subdir)\n",
    "        file_pairs = [(os.path.join(subdir, file), os.path.splitext(file)[0]) for file in files]\n",
    "        \n",
    "        # Only add the subfolder if it has files\n",
    "        if file_pairs:\n",
    "            file_dict[subfolder_name] = file_pairs\n",
    "    \n",
    "    return file_dict\n",
    "\n"
   ]
  },
  {
   "cell_type": "code",
   "execution_count": null,
   "metadata": {},
   "outputs": [],
   "source": [
    "# def extract_mfcc(file_dictionary):\n",
    "#     mfcc_dict = {}\n",
    "    \n",
    "#     for reader in file_dictionary.keys():\n",
    "        \n",
    "#         if reader not in mfcc_dict:\n",
    "#             mfcc_dict[reader] = []\n",
    "\n",
    "#         for audio_path, filename_no_extension in file_dictionary[reader]:\n",
    "#             signal, sample_rate = librosa.load(audio_path, sr=None)\n",
    "#             mfcc_data = librosa.feature.mfcc(y=signal,sr=sample_rate)\n",
    "\n",
    "#             # Calculating various statistic measures on the coefficients.\n",
    "#             mean_mfcc = np.mean(mfcc_data, axis=1)\n",
    "#             median_mfcc= np.median(mfcc_data,axis=1)\n",
    "#             std_mfcc = np.std(mfcc_data, axis=1)\n",
    "#             skew_mfcc = skew(mfcc_data, axis=1)\n",
    "#             kurt_mfcc = kurtosis(mfcc_data, axis=1)\n",
    "#             maximum_mfcc = np.amax(mfcc_data, axis=1)\n",
    "#             minimum_mfcc = np.amin(mfcc_data, axis=1)\n",
    "            \n",
    "#             feature_list = np.concatenate((mean_mfcc,median_mfcc,std_mfcc,skew_mfcc,kurt_mfcc,maximum_mfcc,minimum_mfcc))\n",
    "#             mfcc_dict[reader].append((feature_list, filename_no_extension))\n",
    "\n",
    "#     with open(\"../../../data/extracted_features/mfcc_stats_that/mfcc_stats_that_v2.pickle\", \"wb\") as file:\n",
    "#         pickle.dump(mfcc_dict, file)\n",
    "\n",
    "def extract_mfcc(file_dictionary):\n",
    "    mfcc_dict = {}\n",
    "    \n",
    "    for reader in file_dictionary.keys():\n",
    "        \n",
    "        if reader not in mfcc_dict:\n",
    "            mfcc_dict[reader] = []\n",
    "\n",
    "        for audio_path, filename_no_extension in file_dictionary[reader]:\n",
    "            signal, sample_rate = librosa.load(audio_path, sr=None)\n",
    "            mfcc_data = librosa.feature.mfcc(y=signal, sr=sample_rate,n_fft=1024)\n",
    "\n",
    "            # Calculating various statistic measures on the MFCC coefficients\n",
    "            mean_mfcc = np.mean(mfcc_data, axis=1)\n",
    "            median_mfcc = np.median(mfcc_data, axis=1)\n",
    "            std_mfcc = np.std(mfcc_data, axis=1)\n",
    "            skew_mfcc = skew(mfcc_data, axis=1)\n",
    "            kurt_mfcc = kurtosis(mfcc_data, axis=1)\n",
    "            maximum_mfcc = np.amax(mfcc_data, axis=1)\n",
    "            minimum_mfcc = np.amin(mfcc_data, axis=1)\n",
    "\n",
    "            # Pitch extraction\n",
    "            f0, voiced_flag, voiced_probs = librosa.pyin(\n",
    "                signal, fmin=librosa.note_to_hz('C2'), fmax=librosa.note_to_hz('C7')\n",
    "            )\n",
    "            \n",
    "            # Handle NaNs in pitch\n",
    "            if np.all(np.isnan(f0)):\n",
    "                mean_pitch, median_pitch = 0, 0  # Set default if no pitch is detected\n",
    "            else:\n",
    "                mean_pitch = np.nanmean(f0)  # Mean pitch, ignoring NaNs\n",
    "                median_pitch = np.nanmedian(f0)  # Median pitch, ignoring NaNs\n",
    "\n",
    "            # Concatenate all features\n",
    "            feature_list = np.concatenate((\n",
    "                mean_mfcc, median_mfcc, std_mfcc, skew_mfcc, kurt_mfcc, maximum_mfcc, minimum_mfcc,\n",
    "                [mean_pitch, median_pitch]  # Add pitch statistics to the feature list\n",
    "            ))\n",
    "            \n",
    "            mfcc_dict[reader].append((feature_list, filename_no_extension))\n",
    "\n",
    "    with open(\"../../../data/extracted_features/mfcc_stats_that/mfcc_stats_that_before_after.pickle\", \"wb\") as file:\n",
    "        pickle.dump(mfcc_dict, file)"
   ]
  },
  {
   "cell_type": "code",
   "execution_count": 4,
   "metadata": {},
   "outputs": [
    {
     "name": "stdout",
     "output_type": "stream",
     "text": [
      "dict_keys(['201', '311', '87'])\n"
     ]
    }
   ],
   "source": [
    "file_dictionary = get_file_paths_by_subfolder(r\"C:\\Computer Science Programs\\Fall_2024\\EE502_BioMed\\project\\data\\extracted_words\\that_before_after\")\n",
    "print(file_dictionary.keys())\n",
    "# print(type(file_dictionary[\"19\"]))\n",
    "# print(file_dictionary[\"19\"])"
   ]
  },
  {
   "cell_type": "code",
   "execution_count": 5,
   "metadata": {},
   "outputs": [
    {
     "name": "stderr",
     "output_type": "stream",
     "text": [
      "c:\\Users\\odink\\anaconda3\\envs\\BioMed_Project\\lib\\site-packages\\librosa\\core\\spectrum.py:266: UserWarning: n_fft=2048 is too large for input signal of length=1920\n",
      "  warnings.warn(\n"
     ]
    },
    {
     "ename": "KeyboardInterrupt",
     "evalue": "",
     "output_type": "error",
     "traceback": [
      "\u001b[1;31m---------------------------------------------------------------------------\u001b[0m",
      "\u001b[1;31mKeyboardInterrupt\u001b[0m                         Traceback (most recent call last)",
      "Cell \u001b[1;32mIn[5], line 1\u001b[0m\n\u001b[1;32m----> 1\u001b[0m \u001b[43mextract_mfcc\u001b[49m\u001b[43m(\u001b[49m\u001b[43mfile_dictionary\u001b[49m\u001b[43m)\u001b[49m\n",
      "Cell \u001b[1;32mIn[3], line 50\u001b[0m, in \u001b[0;36mextract_mfcc\u001b[1;34m(file_dictionary)\u001b[0m\n\u001b[0;32m     47\u001b[0m minimum_mfcc \u001b[38;5;241m=\u001b[39m np\u001b[38;5;241m.\u001b[39mamin(mfcc_data, axis\u001b[38;5;241m=\u001b[39m\u001b[38;5;241m1\u001b[39m)\n\u001b[0;32m     49\u001b[0m \u001b[38;5;66;03m# Pitch extraction\u001b[39;00m\n\u001b[1;32m---> 50\u001b[0m f0, voiced_flag, voiced_probs \u001b[38;5;241m=\u001b[39m \u001b[43mlibrosa\u001b[49m\u001b[38;5;241;43m.\u001b[39;49m\u001b[43mpyin\u001b[49m\u001b[43m(\u001b[49m\n\u001b[0;32m     51\u001b[0m \u001b[43m    \u001b[49m\u001b[43msignal\u001b[49m\u001b[43m,\u001b[49m\u001b[43m \u001b[49m\u001b[43mfmin\u001b[49m\u001b[38;5;241;43m=\u001b[39;49m\u001b[43mlibrosa\u001b[49m\u001b[38;5;241;43m.\u001b[39;49m\u001b[43mnote_to_hz\u001b[49m\u001b[43m(\u001b[49m\u001b[38;5;124;43m'\u001b[39;49m\u001b[38;5;124;43mC2\u001b[39;49m\u001b[38;5;124;43m'\u001b[39;49m\u001b[43m)\u001b[49m\u001b[43m,\u001b[49m\u001b[43m \u001b[49m\u001b[43mfmax\u001b[49m\u001b[38;5;241;43m=\u001b[39;49m\u001b[43mlibrosa\u001b[49m\u001b[38;5;241;43m.\u001b[39;49m\u001b[43mnote_to_hz\u001b[49m\u001b[43m(\u001b[49m\u001b[38;5;124;43m'\u001b[39;49m\u001b[38;5;124;43mC7\u001b[39;49m\u001b[38;5;124;43m'\u001b[39;49m\u001b[43m)\u001b[49m\n\u001b[0;32m     52\u001b[0m \u001b[43m\u001b[49m\u001b[43m)\u001b[49m\n\u001b[0;32m     54\u001b[0m \u001b[38;5;66;03m# Handle NaNs in pitch\u001b[39;00m\n\u001b[0;32m     55\u001b[0m \u001b[38;5;28;01mif\u001b[39;00m np\u001b[38;5;241m.\u001b[39mall(np\u001b[38;5;241m.\u001b[39misnan(f0)):\n",
      "File \u001b[1;32mc:\\Users\\odink\\anaconda3\\envs\\BioMed_Project\\lib\\site-packages\\librosa\\core\\pitch.py:856\u001b[0m, in \u001b[0;36mpyin\u001b[1;34m(y, fmin, fmax, sr, frame_length, win_length, hop_length, n_thresholds, beta_parameters, boltzmann_parameter, resolution, max_transition_rate, switch_prob, no_trough_prob, fill_na, center, pad_mode)\u001b[0m\n\u001b[0;32m    853\u001b[0m p_init \u001b[38;5;241m=\u001b[39m np\u001b[38;5;241m.\u001b[39mzeros(\u001b[38;5;241m2\u001b[39m \u001b[38;5;241m*\u001b[39m n_pitch_bins)\n\u001b[0;32m    854\u001b[0m p_init[n_pitch_bins:] \u001b[38;5;241m=\u001b[39m \u001b[38;5;241m1\u001b[39m \u001b[38;5;241m/\u001b[39m n_pitch_bins\n\u001b[1;32m--> 856\u001b[0m states \u001b[38;5;241m=\u001b[39m \u001b[43msequence\u001b[49m\u001b[38;5;241;43m.\u001b[39;49m\u001b[43mviterbi\u001b[49m\u001b[43m(\u001b[49m\u001b[43mobservation_probs\u001b[49m\u001b[43m,\u001b[49m\u001b[43m \u001b[49m\u001b[43mtransition\u001b[49m\u001b[43m,\u001b[49m\u001b[43m \u001b[49m\u001b[43mp_init\u001b[49m\u001b[38;5;241;43m=\u001b[39;49m\u001b[43mp_init\u001b[49m\u001b[43m)\u001b[49m\n\u001b[0;32m    858\u001b[0m \u001b[38;5;66;03m# Find f0 corresponding to each decoded pitch bin.\u001b[39;00m\n\u001b[0;32m    859\u001b[0m freqs \u001b[38;5;241m=\u001b[39m fmin \u001b[38;5;241m*\u001b[39m \u001b[38;5;241m2\u001b[39m \u001b[38;5;241m*\u001b[39m\u001b[38;5;241m*\u001b[39m (np\u001b[38;5;241m.\u001b[39marange(n_pitch_bins) \u001b[38;5;241m/\u001b[39m (\u001b[38;5;241m12\u001b[39m \u001b[38;5;241m*\u001b[39m n_bins_per_semitone))\n",
      "File \u001b[1;32mc:\\Users\\odink\\anaconda3\\envs\\BioMed_Project\\lib\\site-packages\\librosa\\sequence.py:1295\u001b[0m, in \u001b[0;36mviterbi\u001b[1;34m(prob, transition, p_init, return_logp)\u001b[0m\n\u001b[0;32m   1288\u001b[0m \u001b[38;5;28;01melif\u001b[39;00m (\n\u001b[0;32m   1289\u001b[0m     np\u001b[38;5;241m.\u001b[39many(p_init \u001b[38;5;241m<\u001b[39m \u001b[38;5;241m0\u001b[39m)\n\u001b[0;32m   1290\u001b[0m     \u001b[38;5;129;01mor\u001b[39;00m \u001b[38;5;129;01mnot\u001b[39;00m np\u001b[38;5;241m.\u001b[39mallclose(p_init\u001b[38;5;241m.\u001b[39msum(), \u001b[38;5;241m1\u001b[39m)\n\u001b[0;32m   1291\u001b[0m     \u001b[38;5;129;01mor\u001b[39;00m p_init\u001b[38;5;241m.\u001b[39mshape \u001b[38;5;241m!=\u001b[39m (n_states,)\n\u001b[0;32m   1292\u001b[0m ):\n\u001b[0;32m   1293\u001b[0m     \u001b[38;5;28;01mraise\u001b[39;00m ParameterError(\u001b[38;5;124mf\u001b[39m\u001b[38;5;124m\"\u001b[39m\u001b[38;5;124mInvalid initial state distribution: p_init=\u001b[39m\u001b[38;5;132;01m{\u001b[39;00mp_init\u001b[38;5;132;01m}\u001b[39;00m\u001b[38;5;124m\"\u001b[39m)\n\u001b[1;32m-> 1295\u001b[0m log_trans \u001b[38;5;241m=\u001b[39m \u001b[43mnp\u001b[49m\u001b[38;5;241;43m.\u001b[39;49m\u001b[43mlog\u001b[49m\u001b[43m(\u001b[49m\u001b[43mtransition\u001b[49m\u001b[43m \u001b[49m\u001b[38;5;241;43m+\u001b[39;49m\u001b[43m \u001b[49m\u001b[43mepsilon\u001b[49m\u001b[43m)\u001b[49m\n\u001b[0;32m   1296\u001b[0m log_prob \u001b[38;5;241m=\u001b[39m np\u001b[38;5;241m.\u001b[39mlog(prob \u001b[38;5;241m+\u001b[39m epsilon)\n\u001b[0;32m   1297\u001b[0m log_p_init \u001b[38;5;241m=\u001b[39m np\u001b[38;5;241m.\u001b[39mlog(p_init \u001b[38;5;241m+\u001b[39m epsilon)\n",
      "\u001b[1;31mKeyboardInterrupt\u001b[0m: "
     ]
    }
   ],
   "source": [
    "extract_mfcc(file_dictionary)"
   ]
  }
 ],
 "metadata": {
  "kernelspec": {
   "display_name": "BioMed_Project",
   "language": "python",
   "name": "python3"
  },
  "language_info": {
   "codemirror_mode": {
    "name": "ipython",
    "version": 3
   },
   "file_extension": ".py",
   "mimetype": "text/x-python",
   "name": "python",
   "nbconvert_exporter": "python",
   "pygments_lexer": "ipython3",
   "version": "3.10.14"
  }
 },
 "nbformat": 4,
 "nbformat_minor": 2
}
