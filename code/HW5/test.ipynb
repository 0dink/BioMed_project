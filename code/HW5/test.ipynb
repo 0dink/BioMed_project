{
 "cells": [
  {
   "cell_type": "code",
   "execution_count": 2,
   "metadata": {},
   "outputs": [],
   "source": [
    "import numpy as np"
   ]
  },
  {
   "cell_type": "code",
   "execution_count": 5,
   "metadata": {},
   "outputs": [
    {
     "name": "stdout",
     "output_type": "stream",
     "text": [
      "[1 2 3 4 5 6]\n"
     ]
    }
   ],
   "source": [
    "test_1 = np.array([1,2,3])\n",
    "test_2 = np.array([4,5,6])\n",
    "\n",
    "\n",
    "print(np.concatenate((test_1,test_2)))"
   ]
  },
  {
   "cell_type": "code",
   "execution_count": 12,
   "metadata": {},
   "outputs": [
    {
     "name": "stdout",
     "output_type": "stream",
     "text": [
      "[]\n",
      "[0 1 2 3 4]\n",
      "[1 2 3 4 0]\n"
     ]
    }
   ],
   "source": [
    "frst_dim = np.array([])\n",
    "test_1 = np.array([1,2,3,4])\n",
    "\n",
    "print(frst_dim)\n",
    "\n",
    "frst_dim = np.append(0,test_1)\n",
    "\n",
    "print(frst_dim)\n",
    "\n",
    "frst_dim = np.append(test_1,0)\n",
    "\n",
    "print(frst_dim)"
   ]
  },
  {
   "cell_type": "code",
   "execution_count": 13,
   "metadata": {},
   "outputs": [
    {
     "name": "stdout",
     "output_type": "stream",
     "text": [
      "[1, 2]\n"
     ]
    }
   ],
   "source": [
    "test_1 = [1,2,3,4,5]\n",
    "print(test_1[0:2])"
   ]
  },
  {
   "cell_type": "code",
   "execution_count": 14,
   "metadata": {},
   "outputs": [],
   "source": [
    "import librosa\n",
    "import soundfile as sf\n",
    "\n",
    "# Load the FLAC file\n",
    "flac_file_path = r'C:\\Computer Science Programs\\Fall_2024\\EE502_BioMed\\project\\data\\LibriSpeech\\train-clean-100\\26\\496\\26-496-0011.flac'  # Replace with your FLAC file path\n",
    "wav_file_path = '../output_file.wav'   # Output WAV file path\n",
    "\n",
    "# Load the audio file\n",
    "audio_data, sample_rate = librosa.load(flac_file_path, sr=None)\n",
    "\n",
    "# Save the audio data as a WAV file\n",
    "sf.write(wav_file_path, audio_data, sample_rate)"
   ]
  }
 ],
 "metadata": {
  "kernelspec": {
   "display_name": "BioMed_Project",
   "language": "python",
   "name": "python3"
  },
  "language_info": {
   "codemirror_mode": {
    "name": "ipython",
    "version": 3
   },
   "file_extension": ".py",
   "mimetype": "text/x-python",
   "name": "python",
   "nbconvert_exporter": "python",
   "pygments_lexer": "ipython3",
   "version": "3.10.14"
  }
 },
 "nbformat": 4,
 "nbformat_minor": 2
}
