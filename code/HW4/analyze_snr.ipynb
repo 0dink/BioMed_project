{
 "cells": [
  {
   "cell_type": "code",
   "execution_count": 1,
   "metadata": {},
   "outputs": [],
   "source": [
    "import numpy as np\n",
    "import csv\n",
    "from collections import defaultdict"
   ]
  },
  {
   "cell_type": "code",
   "execution_count": 2,
   "metadata": {},
   "outputs": [],
   "source": [
    "def read_snr_csv(path):\n",
    "    data = defaultdict(lambda: defaultdict(list))\n",
    "\n",
    "    with open(path, newline='') as csvfile:\n",
    "        csvreader = csv.reader(csvfile, delimiter='\\\\')\n",
    "\n",
    "        # Process each row in the CSV\n",
    "        for row in csvreader:\n",
    "            reader_ID, chapter, rest = row[0], row[1], row[2]\n",
    "            _, value_1, value_2 = rest.split(',')\n",
    "\n",
    "            # Add values to the dictionary\n",
    "            data[reader_ID][chapter].append((float(value_1), float(value_2)))\n",
    "    return data\n",
    "\n",
    "def percent_difference(initial, final):\n",
    "    return (final - initial)/initial\n"
   ]
  },
  {
   "cell_type": "code",
   "execution_count": 3,
   "metadata": {},
   "outputs": [
    {
     "name": "stdout",
     "output_type": "stream",
     "text": [
      "Reader ID: 19\n",
      "Chapters: ['198', '227']\n",
      "\n",
      "Reader ID: 26\n",
      "Chapters: ['495', '496']\n",
      "\n",
      "Reader ID: 27\n",
      "Chapters: ['123349', '124992']\n",
      "\n",
      "Reader ID: 32\n",
      "Chapters: ['21625', '21631', '21634', '4137']\n",
      "\n",
      "Reader ID: 39\n",
      "Chapters: ['121914', '121915', '121916']\n",
      "\n",
      "Reader ID: 40\n",
      "Chapters: ['121026', '222']\n",
      "\n",
      "Reader ID: 60\n",
      "Chapters: ['121082']\n",
      "\n",
      "Reader ID: 78\n",
      "Chapters: ['368', '369']\n",
      "\n",
      "Reader ID: 83\n",
      "Chapters: ['11691', '3054', '9960']\n",
      "\n",
      "Reader ID: 87\n",
      "Chapters: ['121553']\n",
      "\n"
     ]
    }
   ],
   "source": [
    "data = read_snr_csv(\"../../data/output/snr_data.csv\")\n",
    "\n",
    "for reader_ID in data:\n",
    "    print(f\"Reader ID: {reader_ID}\")\n",
    "    print(\"Chapters:\", list(data[reader_ID].keys()))\n",
    "    print()  # Add a blank line for better readability"
   ]
  },
  {
   "cell_type": "code",
   "execution_count": 5,
   "metadata": {},
   "outputs": [
    {
     "name": "stdout",
     "output_type": "stream",
     "text": [
      "Reader: 19\n",
      "    Chapter: 198\n",
      "        Avg percent diff  : -0.18548261463715854\n",
      "        Avg SNR pre clean : 15.970515514353599\n",
      "        Avg SNR post clean: 13.01908753882241\n",
      "    Chapter: 227\n",
      "        Avg percent diff  : -0.17822742782536238\n",
      "        Avg SNR pre clean : 15.92421499297071\n",
      "        Avg SNR post clean: 13.090069289879539\n",
      "Reader: 26\n",
      "    Chapter: 495\n",
      "        Avg percent diff  : -0.25568019309593665\n",
      "        Avg SNR pre clean : 7.701494438060541\n",
      "        Avg SNR post clean: 5.73254579141807\n",
      "    Chapter: 496\n",
      "        Avg percent diff  : -0.2469925690060342\n",
      "        Avg SNR pre clean : 8.220542306808145\n",
      "        Avg SNR post clean: 6.195334582821352\n",
      "Reader: 27\n",
      "    Chapter: 123349\n",
      "        Avg percent diff  : -0.23029754435096048\n",
      "        Avg SNR pre clean : 9.213995469990888\n",
      "        Avg SNR post clean: 7.109582838179613\n",
      "    Chapter: 124992\n",
      "        Avg percent diff  : -0.18000580663784452\n",
      "        Avg SNR pre clean : 9.746049616843734\n",
      "        Avg SNR post clean: 8.034576221192884\n",
      "Reader: 32\n",
      "    Chapter: 21625\n",
      "        Avg percent diff  : -0.31932609086679586\n",
      "        Avg SNR pre clean : 8.817927066908373\n",
      "        Avg SNR post clean: 6.028541482129855\n",
      "    Chapter: 21631\n",
      "        Avg percent diff  : -0.22608640584189796\n",
      "        Avg SNR pre clean : 8.706423584788933\n",
      "        Avg SNR post clean: 6.737711364806354\n",
      "    Chapter: 21634\n",
      "        Avg percent diff  : -0.245913658831154\n",
      "        Avg SNR pre clean : 9.01155810176859\n",
      "        Avg SNR post clean: 6.790263015222125\n",
      "    Chapter: 4137\n",
      "        Avg percent diff  : -0.18629509333620614\n",
      "        Avg SNR pre clean : 18.216119381749337\n",
      "        Avg SNR post clean: 14.842200661212223\n",
      "Reader: 39\n",
      "    Chapter: 121914\n",
      "        Avg percent diff  : -0.39037022608185157\n",
      "        Avg SNR pre clean : 10.959447293578695\n",
      "        Avg SNR post clean: 6.76736051139541\n",
      "    Chapter: 121915\n",
      "        Avg percent diff  : -0.40155223719666466\n",
      "        Avg SNR pre clean : 10.582535600477463\n",
      "        Avg SNR post clean: 6.379427204638045\n",
      "    Chapter: 121916\n",
      "        Avg percent diff  : -0.4211736139925323\n",
      "        Avg SNR pre clean : 10.49988922197684\n",
      "        Avg SNR post clean: 6.202254589947938\n",
      "Reader: 40\n",
      "    Chapter: 121026\n",
      "        Avg percent diff  : -0.17710996841862853\n",
      "        Avg SNR pre clean : 21.301754029486585\n",
      "        Avg SNR post clean: 17.540898751749197\n",
      "    Chapter: 222\n",
      "        Avg percent diff  : -0.17360609295245544\n",
      "        Avg SNR pre clean : 18.228578244288645\n",
      "        Avg SNR post clean: 15.072591086211583\n",
      "Reader: 60\n",
      "    Chapter: 121082\n",
      "        Avg percent diff  : -0.19830535319390025\n",
      "        Avg SNR pre clean : 14.607920803063013\n",
      "        Avg SNR post clean: 11.710147386427026\n",
      "Reader: 78\n",
      "    Chapter: 368\n",
      "        Avg percent diff  : -0.22688474532490155\n",
      "        Avg SNR pre clean : 16.068916197131376\n",
      "        Avg SNR post clean: 12.486601059354014\n",
      "    Chapter: 369\n",
      "        Avg percent diff  : -0.24414548576710124\n",
      "        Avg SNR pre clean : 15.905593875298274\n",
      "        Avg SNR post clean: 12.113240419044548\n",
      "Reader: 83\n",
      "    Chapter: 11691\n",
      "        Avg percent diff  : -0.09298991785058465\n",
      "        Avg SNR pre clean : 16.482868632633874\n",
      "        Avg SNR post clean: 14.946773091070577\n",
      "    Chapter: 3054\n",
      "        Avg percent diff  : -0.08860175695349826\n",
      "        Avg SNR pre clean : 16.2531539679212\n",
      "        Avg SNR post clean: 14.813903703643286\n",
      "    Chapter: 9960\n",
      "        Avg percent diff  : -0.11521024755602949\n",
      "        Avg SNR pre clean : 16.24214105040803\n",
      "        Avg SNR post clean: 14.379639742622052\n",
      "Reader: 87\n",
      "    Chapter: 121553\n",
      "        Avg percent diff  : -0.2127535922095679\n",
      "        Avg SNR pre clean : 14.802116612135782\n",
      "        Avg SNR post clean: 11.672643475337045\n"
     ]
    }
   ],
   "source": [
    "for reader in data:\n",
    "    print(f\"Reader: {reader}\")\n",
    "    for chapter in data[reader].keys():\n",
    "        percent_diff = np.array([percent_difference(initial,final) for initial,final in data[reader][chapter]])\n",
    "        intial_snr  = np.array([initial for initial, _ in data[reader][chapter]])\n",
    "        cleaned_snr = np.array([cleaned for _, cleaned in data[reader][chapter]])\n",
    "        print(f\"    Chapter: {chapter}\")\n",
    "        print(f\"        Avg percent diff  : {np.mean(percent_diff)}\")\n",
    "        print(f\"        Avg SNR pre clean : {np.mean(intial_snr)}\")\n",
    "        print(f\"        Avg SNR post clean: {np.mean(cleaned_snr)}\")\n"
   ]
  },
  {
   "cell_type": "code",
   "execution_count": 4,
   "metadata": {},
   "outputs": [
    {
     "name": "stdout",
     "output_type": "stream",
     "text": [
      "-0.2193819943590358\n",
      "13.745270265243828\n",
      "10.90675257481335\n"
     ]
    }
   ],
   "source": [
    "all_values = []\n",
    "uncleaned_all = []\n",
    "cleaned_all = []\n",
    "for reader in data:\n",
    "    for chapter in data[reader].keys():\n",
    "        all_values.extend(data[reader][chapter])\n",
    "        uncleaned_all.extend([initial for initial, _ in data[reader][chapter]])\n",
    "        cleaned_all.extend([cleaned for _, cleaned in data[reader][chapter]])\n",
    "\n",
    "percent_diff_all = np.array([percent_difference(initial,final) for initial, final in all_values])\n",
    "print(np.mean(percent_diff_all))\n",
    "print(np.mean(np.array(uncleaned_all)))\n",
    "print(np.mean(np.array(cleaned_all)))"
   ]
  },
  {
   "cell_type": "code",
   "execution_count": 8,
   "metadata": {},
   "outputs": [
    {
     "name": "stdout",
     "output_type": "stream",
     "text": [
      "0.08805480034689833\n"
     ]
    }
   ],
   "source": [
    "all_values = []\n",
    "uncleaned_all = []\n",
    "cleaned_all = []\n",
    "for reader in data:\n",
    "    for chapter in data[reader].keys():\n",
    "        all_values.extend(data[reader][chapter])\n",
    "        uncleaned_all.extend([initial for initial, _ in data[reader][chapter]])\n",
    "        cleaned_all.extend([cleaned for _, cleaned in data[reader][chapter]])\n",
    "\n",
    "\n",
    "difference_list = np.array([unclean - clean for unclean, clean in all_values])\n",
    "percent_diff_all = np.array([percent_difference(initial,final) for initial, final in all_values])\n",
    "\n",
    "# print(np.mean(difference_list))\n",
    "\n",
    "# print(np.std(difference_list))\n",
    "print(np.std(percent_diff_all))"
   ]
  }
 ],
 "metadata": {
  "kernelspec": {
   "display_name": "BioMed_Project",
   "language": "python",
   "name": "python3"
  },
  "language_info": {
   "codemirror_mode": {
    "name": "ipython",
    "version": 3
   },
   "file_extension": ".py",
   "mimetype": "text/x-python",
   "name": "python",
   "nbconvert_exporter": "python",
   "pygments_lexer": "ipython3",
   "version": "3.10.14"
  }
 },
 "nbformat": 4,
 "nbformat_minor": 2
}
