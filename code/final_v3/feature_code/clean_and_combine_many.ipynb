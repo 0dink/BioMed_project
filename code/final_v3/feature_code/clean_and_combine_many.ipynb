{
 "cells": [
  {
   "cell_type": "code",
   "execution_count": 1,
   "metadata": {},
   "outputs": [
    {
     "name": "stderr",
     "output_type": "stream",
     "text": [
      "c:\\Users\\odink\\anaconda3\\envs\\BioMed_Project\\lib\\site-packages\\tqdm\\auto.py:21: TqdmWarning: IProgress not found. Please update jupyter and ipywidgets. See https://ipywidgets.readthedocs.io/en/stable/user_install.html\n",
      "  from .autonotebook import tqdm as notebook_tqdm\n"
     ]
    }
   ],
   "source": [
    "import os\n",
    "import librosa\n",
    "import random\n",
    "\n",
    "import noisereduce as nr\n",
    "import soundfile as sf\n",
    "import numpy as np\n",
    "\n",
    "from pathlib import Path\n"
   ]
  },
  {
   "cell_type": "code",
   "execution_count": 2,
   "metadata": {},
   "outputs": [],
   "source": [
    "def get_speakers(meta_data):\n",
    "    male_speakers = []\n",
    "    female_speakers = []\n",
    "    random.seed(42)\n",
    "\n",
    "    with open(meta_data, 'r') as file:\n",
    "        # Iterate through each line in the file\n",
    "        for line in file:\n",
    "            # Skip lines starting with a semicolon (comments)\n",
    "            if line.strip().startswith(\";\") or not line.strip():\n",
    "                continue\n",
    "            \n",
    "            # Split the line by pipe (|) and strip extra spaces\n",
    "            fields = [field.strip() for field in line.split('|')]\n",
    "            \n",
    "            # Ensure the line has all required fields\n",
    "            if len(fields) >= 5:\n",
    "                reader_id = fields[0]\n",
    "                gender = fields[1]\n",
    "                subset = fields[2]\n",
    "                \n",
    "                # Add to appropriate list based on conditions\n",
    "                if subset == \"train-clean-100\":\n",
    "                    if gender == \"M\":\n",
    "                        male_speakers.append(reader_id)\n",
    "                    elif gender == \"F\":\n",
    "                        female_speakers.append(reader_id)\n",
    "\n",
    "    male_speakers_sample = random.sample(male_speakers, min(50, len(male_speakers)))\n",
    "    female_speakers_sample = random.sample(female_speakers, min(50, len(female_speakers)))\n",
    "\n",
    "    samples = male_speakers_sample\n",
    "    samples.extend(female_speakers_sample)\n",
    "\n",
    "    return samples"
   ]
  },
  {
   "cell_type": "code",
   "execution_count": 33,
   "metadata": {},
   "outputs": [],
   "source": [
    "def clean_and_combine(speakers, data_root=\"../../../data/LibriSpeech/train-clean-100/\"):\n",
    "    for speaker in speakers:\n",
    "        denoised_files = []\n",
    "        if not os.path.exists(f\"../../../data/cleaned_combined_v2/{speaker}.wav\"):\n",
    "            for root, _, files in os.walk(f\"{data_root}{speaker}\"):\n",
    "                for file in files:\n",
    "                    if file.endswith('.flac'):\n",
    "                        input_file_path = Path(root) / file\n",
    "                        audio_signal, sample_rate = librosa.load(input_file_path, sr=None)\n",
    "                        denoised_audio_signal = nr.reduce_noise(y=audio_signal, sr=sample_rate, prop_decrease=0.8)\n",
    "                        denoised_files.append(denoised_audio_signal)\n",
    "\n",
    "            combined_audio = np.concatenate(denoised_files)\n",
    "            sf.write(f\"../../../data/cleaned_combined_v2/{speaker}.wav\", combined_audio, sample_rate)\n",
    "            print(f\"speaker {speaker} completed\")\n",
    "        else:\n",
    "            print(f\"file for {speaker} already exists skipping\")\n"
   ]
  },
  {
   "cell_type": "code",
   "execution_count": 31,
   "metadata": {},
   "outputs": [
    {
     "name": "stdout",
     "output_type": "stream",
     "text": [
      "['5456', '374', '78', '6529', '1624', '1334', '1040', '445', '8747', '332', '5808', '8425', '4406', '307', '4898', '3242', '118', '8770', '8095', '1034', '1081', '3857', '5104', '7447', '4788', '909', '6367', '5678', '6181', '8098', '3240', '8609', '3486', '8088', '8630', '26', '460', '8063', '2384', '6925', '458', '7367', '6019', '8419', '7402', '2893', '311', '2514', '2436', '1455', '7059', '87', '6000', '2910', '3983', '250', '8123', '2007', '198', '4088', '1447', '7148', '4680', '4640', '7517', '1970', '4195', '587', '5778', '125', '8468', '5339', '1069', '6385', '7800', '8014', '6818', '211', '8051', '1263', '8324', '4853', '7511', '328', '1992', '1963', '696', '5393', '1246', '5022', '150', '4362', '8465', '403', '8312', '1098', '5789', '2989', '6147', '5514']\n"
     ]
    }
   ],
   "source": [
    "file_path = \"../../../data/LibriSpeech/SPEAKERS.TXT\"\n",
    "samples = get_speakers(file_path)\n",
    "\n",
    "print(samples)"
   ]
  },
  {
   "cell_type": "code",
   "execution_count": 34,
   "metadata": {},
   "outputs": [
    {
     "name": "stdout",
     "output_type": "stream",
     "text": [
      "file for 5456 already exists skipping\n",
      "file for 374 already exists skipping\n",
      "file for 78 already exists skipping\n",
      "file for 6529 already exists skipping\n",
      "file for 1624 already exists skipping\n",
      "speaker 1334 completed\n",
      "speaker 1040 completed\n",
      "speaker 445 completed\n",
      "speaker 8747 completed\n",
      "speaker 332 completed\n",
      "speaker 5808 completed\n",
      "speaker 8425 completed\n",
      "speaker 4406 completed\n",
      "speaker 307 completed\n",
      "speaker 4898 completed\n",
      "speaker 3242 completed\n",
      "speaker 118 completed\n",
      "speaker 8770 completed\n",
      "speaker 8095 completed\n",
      "speaker 1034 completed\n",
      "speaker 1081 completed\n",
      "speaker 3857 completed\n",
      "speaker 5104 completed\n",
      "speaker 7447 completed\n",
      "speaker 4788 completed\n",
      "speaker 909 completed\n",
      "speaker 6367 completed\n",
      "speaker 5678 completed\n",
      "speaker 6181 completed\n",
      "speaker 8098 completed\n",
      "speaker 3240 completed\n",
      "speaker 8609 completed\n",
      "speaker 3486 completed\n",
      "speaker 8088 completed\n",
      "speaker 8630 completed\n",
      "speaker 26 completed\n",
      "speaker 460 completed\n",
      "speaker 8063 completed\n",
      "speaker 2384 completed\n",
      "speaker 6925 completed\n",
      "speaker 458 completed\n",
      "speaker 7367 completed\n",
      "speaker 6019 completed\n",
      "speaker 8419 completed\n",
      "speaker 7402 completed\n",
      "speaker 2893 completed\n",
      "speaker 311 completed\n",
      "speaker 2514 completed\n",
      "speaker 2436 completed\n",
      "speaker 1455 completed\n",
      "speaker 7059 completed\n",
      "speaker 87 completed\n",
      "speaker 6000 completed\n",
      "speaker 2910 completed\n",
      "speaker 3983 completed\n",
      "speaker 250 completed\n",
      "speaker 8123 completed\n",
      "speaker 2007 completed\n",
      "speaker 198 completed\n",
      "speaker 4088 completed\n",
      "speaker 1447 completed\n",
      "speaker 7148 completed\n",
      "speaker 4680 completed\n",
      "speaker 4640 completed\n",
      "speaker 7517 completed\n",
      "speaker 1970 completed\n",
      "speaker 4195 completed\n",
      "speaker 587 completed\n",
      "speaker 5778 completed\n",
      "speaker 125 completed\n",
      "speaker 8468 completed\n",
      "speaker 5339 completed\n",
      "speaker 1069 completed\n",
      "speaker 6385 completed\n",
      "speaker 7800 completed\n",
      "speaker 8014 completed\n",
      "speaker 6818 completed\n",
      "speaker 211 completed\n",
      "speaker 8051 completed\n",
      "speaker 1263 completed\n",
      "speaker 8324 completed\n",
      "speaker 4853 completed\n",
      "speaker 7511 completed\n",
      "speaker 328 completed\n",
      "speaker 1992 completed\n",
      "speaker 1963 completed\n",
      "speaker 696 completed\n",
      "speaker 5393 completed\n",
      "speaker 1246 completed\n",
      "speaker 5022 completed\n",
      "speaker 150 completed\n",
      "speaker 4362 completed\n",
      "speaker 8465 completed\n",
      "speaker 403 completed\n",
      "speaker 8312 completed\n",
      "speaker 1098 completed\n",
      "speaker 5789 completed\n",
      "speaker 2989 completed\n",
      "speaker 6147 completed\n",
      "speaker 5514 completed\n"
     ]
    }
   ],
   "source": [
    "clean_and_combine(samples)"
   ]
  }
 ],
 "metadata": {
  "kernelspec": {
   "display_name": "BioMed_Project",
   "language": "python",
   "name": "python3"
  },
  "language_info": {
   "codemirror_mode": {
    "name": "ipython",
    "version": 3
   },
   "file_extension": ".py",
   "mimetype": "text/x-python",
   "name": "python",
   "nbconvert_exporter": "python",
   "pygments_lexer": "ipython3",
   "version": "3.10.14"
  }
 },
 "nbformat": 4,
 "nbformat_minor": 2
}
