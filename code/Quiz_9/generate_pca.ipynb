{
 "cells": [
  {
   "cell_type": "code",
   "execution_count": 1,
   "metadata": {},
   "outputs": [],
   "source": [
    "import pickle\n",
    "import numpy as np\n",
    "\n",
    "from sklearn.decomposition import PCA\n",
    "from sklearn.preprocessing import StandardScaler"
   ]
  },
  {
   "cell_type": "code",
   "execution_count": 35,
   "metadata": {},
   "outputs": [
    {
     "name": "stdout",
     "output_type": "stream",
     "text": [
      "reader: 1069 | # samples 300\n",
      "reader: 19 | # samples 300\n",
      "reader: 201 | # samples 300\n",
      "reader: 250 | # samples 300\n",
      "reader: 254 | # samples 300\n",
      "reader: 26 | # samples 300\n",
      "reader: 27 | # samples 300\n",
      "reader: 289 | # samples 300\n",
      "reader: 298 | # samples 300\n",
      "reader: 311 | # samples 300\n",
      "reader: 32 | # samples 300\n",
      "reader: 3240 | # samples 300\n",
      "reader: 39 | # samples 300\n",
      "reader: 40 | # samples 300\n",
      "reader: 4297 | # samples 300\n",
      "reader: 60 | # samples 300\n",
      "reader: 78 | # samples 300\n",
      "reader: 7800 | # samples 300\n",
      "reader: 83 | # samples 300\n",
      "reader: 87 | # samples 300\n"
     ]
    }
   ],
   "source": [
    "features = \"mfcc_20_no_pitch_rand\"\n",
    "\n",
    "with open(f\"../../data/extracted_features_v2/{features}.pickle\", \"rb\") as file:\n",
    "   mfcc_stats_dict = pickle.load(file)\n",
    "\n",
    "for reader in mfcc_stats_dict.keys():\n",
    "    print(f\"reader: {reader} | # samples {len(mfcc_stats_dict[reader])}\")"
   ]
  },
  {
   "cell_type": "code",
   "execution_count": null,
   "metadata": {},
   "outputs": [],
   "source": [
    "def scale_features(data_dict):\n",
    "    \"\"\"\n",
    "    Scales the data in a dictionary using StandardScaler.\n",
    "    \n",
    "    Parameters:\n",
    "        data_dict (dict): Dictionary where each key is a subject, and the value is a 2D array \n",
    "                          (samples x features).\n",
    "                          \n",
    "    Returns:\n",
    "        dict: A new dictionary with scaled data, maintaining the same structure as the input.\n",
    "    \"\"\"\n",
    "    # Combine all data into a single array\n",
    "    all_samples = np.vstack(list(data_dict.values()))  # Shape: (total_samples, num_features)\n",
    "\n",
    "    # Scale the data\n",
    "    scaler = StandardScaler()\n",
    "    scaled_data = scaler.fit_transform(all_samples)  # Shape: (total_samples, num_features)\n",
    "\n",
    "    # Split scaled data back into original structure\n",
    "    split_indices = np.cumsum([len(samples) for samples in data_dict.values()])[:-1]\n",
    "    scaled_subjects = np.split(scaled_data, split_indices)\n",
    "\n",
    "    # Reconstruct the dictionary with scaled data\n",
    "    scaled_data_dict = {key: scaled_subjects[i] for i, key in enumerate(data_dict.keys())}\n",
    "\n",
    "    return scaled_data_dict\n",
    "\n",
    "def scale_and_optimize_pca(data_dict, variance_threshold=0.95):\n",
    "    \"\"\"\n",
    "    Scales the data in a dictionary using StandardScaler, determines the optimal \n",
    "    number of PCA components based on the explained variance threshold, \n",
    "    applies PCA, and returns the transformed data in the same dictionary structure.\n",
    "\n",
    "    Parameters:\n",
    "        data_dict (dict): Dictionary where each key is a subject, and the value is a 2D array \n",
    "                          (samples x features).\n",
    "        variance_threshold (float): The minimum cumulative explained variance (0 to 1) \n",
    "                                    to determine the number of PCA components.\n",
    "                          \n",
    "    Returns:\n",
    "        tuple:\n",
    "            dict: A new dictionary with PCA-transformed data, maintaining the same structure as the input.\n",
    "            int: The number of PCA components selected.\n",
    "    \"\"\"\n",
    "    # Combine all data into a single array\n",
    "    all_samples = np.vstack(list(data_dict.values()))  # Shape: (total_samples, num_features)\n",
    "\n",
    "    # Scale the data\n",
    "    scaler = StandardScaler()\n",
    "    standardized_data = scaler.fit_transform(all_samples)  # Shape: (total_samples, num_features)\n",
    "\n",
    "    # Fit PCA on standardized data to find optimal number of components\n",
    "    pca = PCA()\n",
    "    pca.fit(standardized_data)\n",
    "    cumsum = np.cumsum(pca.explained_variance_ratio_)\n",
    "    n_components = np.argmax(cumsum >= variance_threshold) + 1\n",
    "\n",
    "    # Apply PCA with the optimal number of components\n",
    "    pca = PCA(n_components=n_components)\n",
    "    pca_data = pca.fit_transform(standardized_data)  # Shape: (total_samples, n_components)\n",
    "\n",
    "    # Split PCA-transformed data back into original structure\n",
    "    split_indices = np.cumsum([len(samples) for samples in data_dict.values()])[:-1]\n",
    "    pca_subjects = np.split(pca_data, split_indices)\n",
    "\n",
    "    # Reconstruct the dictionary with PCA-transformed data\n",
    "    pca_data_dict = {key: pca_subjects[i] for i, key in enumerate(data_dict.keys())}\n",
    "\n",
    "    return pca_data_dict, n_components\n"
   ]
  },
  {
   "cell_type": "code",
   "execution_count": 36,
   "metadata": {},
   "outputs": [
    {
     "name": "stdout",
     "output_type": "stream",
     "text": [
      "key: 1069 shape: (300, 70)\n",
      "key: 19 shape: (300, 70)\n",
      "key: 201 shape: (300, 70)\n",
      "key: 250 shape: (300, 70)\n",
      "key: 254 shape: (300, 70)\n",
      "key: 26 shape: (300, 70)\n",
      "key: 27 shape: (300, 70)\n",
      "key: 289 shape: (300, 70)\n",
      "key: 298 shape: (300, 70)\n",
      "key: 311 shape: (300, 70)\n",
      "key: 32 shape: (300, 70)\n",
      "key: 3240 shape: (300, 70)\n",
      "key: 39 shape: (300, 70)\n",
      "key: 40 shape: (300, 70)\n",
      "key: 4297 shape: (300, 70)\n",
      "key: 60 shape: (300, 70)\n",
      "key: 78 shape: (300, 70)\n",
      "key: 7800 shape: (300, 70)\n",
      "key: 83 shape: (300, 70)\n",
      "key: 87 shape: (300, 70)\n"
     ]
    }
   ],
   "source": [
    "pca_transformed_data, optimal_components = scale_and_optimize_pca(mfcc_stats_dict)\n",
    "\n",
    "for key in pca_transformed_data.keys():\n",
    "    print(f\"key: {key} shape: {pca_transformed_data[key].shape}\")"
   ]
  },
  {
   "cell_type": "code",
   "execution_count": 37,
   "metadata": {},
   "outputs": [],
   "source": [
    "with open(f\"../../data/extracted_features_v2/pca_{features}.pickle\", \"wb\") as file:\n",
    "    pickle.dump(pca_transformed_data, file)"
   ]
  }
 ],
 "metadata": {
  "kernelspec": {
   "display_name": "BioMed_Project",
   "language": "python",
   "name": "python3"
  },
  "language_info": {
   "codemirror_mode": {
    "name": "ipython",
    "version": 3
   },
   "file_extension": ".py",
   "mimetype": "text/x-python",
   "name": "python",
   "nbconvert_exporter": "python",
   "pygments_lexer": "ipython3",
   "version": "3.10.14"
  }
 },
 "nbformat": 4,
 "nbformat_minor": 2
}
