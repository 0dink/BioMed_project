{
 "cells": [
  {
   "cell_type": "code",
   "execution_count": null,
   "metadata": {},
   "outputs": [],
   "source": [
    "# what to do\n",
    "# run one-way ANOVA test on all on each feature from each subject\n",
    "# do same thing but with all of the subject? maybe "
   ]
  },
  {
   "cell_type": "code",
   "execution_count": 2,
   "metadata": {},
   "outputs": [],
   "source": [
    "import pickle"
   ]
  },
  {
   "cell_type": "code",
   "execution_count": 5,
   "metadata": {},
   "outputs": [
    {
     "name": "stdout",
     "output_type": "stream",
     "text": [
      "reader: 1069 | # samples 300\n",
      "reader: 19 | # samples 300\n",
      "reader: 201 | # samples 300\n",
      "reader: 250 | # samples 300\n",
      "reader: 254 | # samples 300\n",
      "reader: 26 | # samples 300\n",
      "reader: 27 | # samples 300\n",
      "reader: 289 | # samples 300\n",
      "reader: 298 | # samples 300\n",
      "reader: 311 | # samples 300\n",
      "reader: 32 | # samples 300\n",
      "reader: 3240 | # samples 300\n",
      "reader: 39 | # samples 300\n",
      "reader: 40 | # samples 300\n",
      "reader: 4297 | # samples 300\n",
      "reader: 60 | # samples 300\n",
      "reader: 78 | # samples 300\n",
      "reader: 7800 | # samples 300\n",
      "reader: 83 | # samples 300\n",
      "reader: 87 | # samples 300\n"
     ]
    }
   ],
   "source": [
    "features = \"mfcc_20_pitch_rand\"\n",
    "\n",
    "with open(f\"../../data/extracted_features_v2/{features}.pickle\", \"rb\") as file:\n",
    "   mfcc_stats_dict = pickle.load(file)\n",
    "\n",
    "for reader in mfcc_stats_dict.keys():\n",
    "    print(f\"reader: {reader} | # samples {len(mfcc_stats_dict[reader])}\")"
   ]
  }
 ],
 "metadata": {
  "kernelspec": {
   "display_name": "BioMed_Project",
   "language": "python",
   "name": "python3"
  },
  "language_info": {
   "codemirror_mode": {
    "name": "ipython",
    "version": 3
   },
   "file_extension": ".py",
   "mimetype": "text/x-python",
   "name": "python",
   "nbconvert_exporter": "python",
   "pygments_lexer": "ipython3",
   "version": "3.10.14"
  }
 },
 "nbformat": 4,
 "nbformat_minor": 2
}
