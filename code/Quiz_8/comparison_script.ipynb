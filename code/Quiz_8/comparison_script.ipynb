{
 "cells": [
  {
   "cell_type": "code",
   "execution_count": 4,
   "metadata": {},
   "outputs": [],
   "source": [
    "import re"
   ]
  },
  {
   "cell_type": "code",
   "execution_count": 2,
   "metadata": {},
   "outputs": [],
   "source": [
    "def parse_metrics(file_content):\n",
    "    \"\"\"\n",
    "    Parse the metrics from the file content.\n",
    "    \"\"\"\n",
    "    metrics = {}\n",
    "    for line in file_content.splitlines():\n",
    "        if \"five num sum\" in line and \"threshold\" not in line:\n",
    "            parts = re.split(r':\\s+', line.strip())\n",
    "            metric_name = parts[0].strip()\n",
    "            values = list(map(float, parts[1].split('|')[:-1]))  # Exclude the mean\n",
    "            metrics[metric_name] = values\n",
    "    return metrics\n",
    "\n",
    "def calculate_percent_difference(metrics1, metrics2):\n",
    "    \"\"\"\n",
    "    Calculate percentage difference for the metrics.\n",
    "    \"\"\"\n",
    "    percent_differences = {}\n",
    "    for metric in metrics1:\n",
    "        diffs = [\n",
    "            (m2 - m1) / m1 * 100 if m1 != 0 else float('inf')\n",
    "            for m1, m2 in zip(metrics1[metric], metrics2[metric])\n",
    "        ]\n",
    "        percent_differences[metric] = diffs\n",
    "    return percent_differences\n",
    "\n",
    "def print_metrics(metrics):\n",
    "    \"\"\"\n",
    "    Print metrics in the specified format.\n",
    "    \"\"\"\n",
    "    for metric, values in metrics.items():\n",
    "        formatted_values = ' | '.join(f'{v:.4f}' for v in values)\n",
    "        print(f\"{metric}: {formatted_values} | mean: {sum(values) / len(values):.4f}\")"
   ]
  },
  {
   "cell_type": "code",
   "execution_count": null,
   "metadata": {},
   "outputs": [
    {
     "name": "stdout",
     "output_type": "stream",
     "text": [
      "Percentage Differences:\n",
      "five num sum accuracy: -6.6615 | -6.8592 | -3.3281 | -3.1865 | 0.0000 | mean: -4.0071\n",
      "five num sum precision: -3.5186 | -3.1855 | -3.8939 | -2.0438 | -5.0000 | mean: -3.5284\n",
      "five num sum recall: -5.0157 | -14.0697 | -7.5500 | -2.3114 | 0.0000 | mean: -5.7894\n",
      "five num sum F1-score: -8.3436 | -8.0000 | -3.7125 | -2.8770 | 0.0000 | mean: -4.5866\n",
      "five num sum ROC AUC: -12.5899 | -10.4970 | -5.8704 | -2.1580 | 1.2478 | mean: -5.9735\n"
     ]
    }
   ],
   "source": [
    "file1_path = \"./metrics/hmm_mfcc_20_no_pitch_rand.txt\"\n",
    "file2_path = \"./metrics/Kmeans_mfcc_20_no_pitch_rand.txt\"\n",
    "\n",
    "# Read file contents\n",
    "with open(file1_path, 'r') as file1, open(file2_path, 'r') as file2:\n",
    "    file1_content = file1.read()\n",
    "    file2_content = file2.read()\n",
    "\n",
    "# Parse metrics\n",
    "metrics1 = parse_metrics(file1_content)\n",
    "metrics2 = parse_metrics(file2_content)\n",
    "\n",
    "# Calculate percentage differences\n",
    "percent_differences = calculate_percent_difference(metrics1, metrics2)\n",
    "\n",
    "# Print results\n",
    "print(\"Percentage Differences:\")\n",
    "print_metrics(percent_differences)"
   ]
  }
 ],
 "metadata": {
  "kernelspec": {
   "display_name": "BioMed_Project",
   "language": "python",
   "name": "python3"
  },
  "language_info": {
   "codemirror_mode": {
    "name": "ipython",
    "version": 3
   },
   "file_extension": ".py",
   "mimetype": "text/x-python",
   "name": "python",
   "nbconvert_exporter": "python",
   "pygments_lexer": "ipython3",
   "version": "3.10.14"
  }
 },
 "nbformat": 4,
 "nbformat_minor": 2
}
